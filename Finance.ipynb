{
 "cells": [
  {
   "cell_type": "code",
   "execution_count": null,
   "id": "76eda6b1",
   "metadata": {},
   "outputs": [],
   "source": [
    "import pandas as pd\n",
    "import numpy as np\n",
    "import matplotlib.pyplot as plt\n",
    "from sklearn.preprocessing import MinMaxScaler\n",
    "from keras.models import Sequential\n",
    "from keras.layers import Dense, Dropout, LSTM"
   ]
  },
  {
   "cell_type": "code",
   "execution_count": null,
   "id": "09f3d5b5",
   "metadata": {},
   "outputs": [],
   "source": [
    "df1 = pd.read_csv(\"IBUL.csv\", parse_dates = True, infer_datetime_format = True)\n",
    "df2 = pd.read_csv(\"GIC.csv\", parse_dates = True, infer_datetime_format = True)\n",
    "df3 = pd.read_csv(\"LIC.csv\", parse_dates = True, infer_datetime_format = True)\n",
    "df4 = pd.read_csv(\"Muthoot.csv\", parse_dates = True, infer_datetime_format = True)\n",
    "df5 = pd.read_csv(\"Reliance.csv\", parse_dates = True, infer_datetime_format = True)"
   ]
  },
  {
   "cell_type": "code",
   "execution_count": null,
   "id": "0b67b0e9",
   "metadata": {},
   "outputs": [],
   "source": [
    "df1['Date'] = pd.to_datetime(df1.Date,format='%Y-%m-%d'); df1.index = df1[\"Date\"]\n",
    "df2['Date'] = pd.to_datetime(df2.Date,format='%Y-%m-%d'); df2.index = df2[\"Date\"]\n",
    "df3['Date'] = pd.to_datetime(df3.Date,format='%Y-%m-%d'); df3.index = df3[\"Date\"]\n",
    "df4['Date'] = pd.to_datetime(df4.Date,format='%Y-%m-%d'); df4.index = df4[\"Date\"]\n",
    "df5['Date'] = pd.to_datetime(df5.Date,format='%Y-%m-%d'); df5.index = df5[\"Date\"]"
   ]
  },
  {
   "cell_type": "code",
   "execution_count": null,
   "id": "79999d13",
   "metadata": {},
   "outputs": [],
   "source": [
    "fig, ax = plt.subplots(2,3, figsize = (15,15))\n",
    "\n",
    "ax[0,0].plot(df1[\"Close\"])\n",
    "ax[0,0].set_xlabel(\"Dates\")\n",
    "ax[0,0].set_title(\"IndiaBulls\")\n",
    "ax[0,0].set_ylabel(\"Closing Stock Prices\")\n",
    "ax[0,0].legend([\"Closing Stock Prices\"])\n",
    "\n",
    "ax[0,1].plot(df2[\"Close\"])\n",
    "ax[0,1].set_xlabel(\"Dates\")\n",
    "ax[0,1].set_title(\"GIC\")\n",
    "ax[0,1].set_ylabel(\"Closing Stock Prices\")\n",
    "ax[0,1].legend([\"Closing Stock Prices\"])\n",
    "\n",
    "ax[0,2].plot(df3[\"Close\"])\n",
    "ax[0,2].set_xlabel(\"Dates\")\n",
    "ax[0,2].set_title(\"LIC\")\n",
    "ax[0,2].set_ylabel(\"Closing Stock Prices\")\n",
    "ax[0,2].legend([\"Closing Stock Prices\"])\n",
    "\n",
    "ax[1,0].plot(df4[\"Close\"])\n",
    "ax[1,0].set_xlabel(\"Dates\")\n",
    "ax[1,0].set_title(\"Muthoot\")\n",
    "ax[1,0].set_ylabel(\"Closing Stock Prices\")\n",
    "ax[1,0].legend([\"Closing Stock Prices\"])\n",
    "\n",
    "ax[1,1].plot(df5[\"Close\"])\n",
    "ax[1,1].set_xlabel(\"Dates\")\n",
    "ax[1,1].set_title(\"Reliance\")\n",
    "ax[1,1].set_ylabel(\"Closing Stock Prices\")\n",
    "ax[1,1].legend([\"Closing Stock Prices\"])"
   ]
  },
  {
   "cell_type": "code",
   "execution_count": null,
   "id": "8bd046f5",
   "metadata": {},
   "outputs": [],
   "source": [
    "def Plot_prediction(df, title = \"No Title Given\"):\n",
    "    data = df.sort_index(ascending=True, axis=0)\n",
    "    new_data = pd.DataFrame(index=range(0,len(df)),columns=['Date', 'Close'])\n",
    "    for i in range(0,len(data)):\n",
    "        new_data['Date'][i] = data['Date'][i]\n",
    "        new_data['Close'][i] = data['Close'][i]\n",
    "    \n",
    "    #setting index\n",
    "    new_data.index = new_data.Date\n",
    "    new_data.drop('Date', axis=1, inplace=True)\n",
    "\n",
    "    #creating train and test sets\n",
    "    dataset = new_data.values\n",
    "\n",
    "    train = dataset[0:179,:]\n",
    "    test = dataset[179:,:]\n",
    "\n",
    "    #converting dataset into x_train and y_train\n",
    "    scaler = MinMaxScaler(feature_range=(0, 1))\n",
    "    scaled_data = scaler.fit_transform(dataset)\n",
    "\n",
    "    x_train, y_train = [], []\n",
    "    for i in range(30,len(train)):\n",
    "        x_train.append(scaled_data[i-30:i,0])\n",
    "        y_train.append(scaled_data[i,0])\n",
    "    x_train, y_train = np.array(x_train), np.array(y_train)\n",
    "\n",
    "    x_train = np.reshape(x_train, (x_train.shape[0],x_train.shape[1],1))\n",
    "\n",
    "    # create and fit the LSTM network\n",
    "    model = Sequential()\n",
    "    model.add(LSTM(units=50, activation = \"relu\", return_sequences=True, input_shape=(x_train.shape[1],1)))\n",
    "    model.add(LSTM(units=50, activation = \"relu\"))\n",
    "    model.add(Dense(1))\n",
    "\n",
    "    model.compile(loss='mean_squared_error', optimizer='adam')\n",
    "    history = model.fit(x_train, y_train, epochs=100, batch_size=1, verbose=0)\n",
    "\n",
    "    loss_per_epoch = history.history['loss']\n",
    "    plt.plot(range(len(loss_per_epoch)),loss_per_epoch)\n",
    "\n",
    "    #predicting 70 values, using past 30 from the train data\n",
    "    inputs = new_data[len(new_data) - len(test) - 30:].values\n",
    "    inputs = inputs.reshape(-1,1)\n",
    "    inputs  = scaler.transform(inputs)\n",
    "\n",
    "    X_test = []\n",
    "    for i in range(30,inputs.shape[0]):\n",
    "        X_test.append(inputs[i-30:i,0])\n",
    "    X_test = np.array(X_test)\n",
    "\n",
    "    X_test = np.reshape(X_test, (X_test.shape[0],X_test.shape[1],1))\n",
    "    closing_price = model.predict(X_test)\n",
    "    closing_price = scaler.inverse_transform(closing_price)\n",
    "\n",
    "    rms=np.sqrt(np.mean(np.power((test-closing_price),2)))\n",
    "    print(\"RMS =\", rms)\n",
    "\n",
    "    train = new_data[:179]\n",
    "    test = new_data[179:]\n",
    "    test['Predictions'] = closing_price\n",
    "\n",
    "    plt.figure(figsize=(16,16))\n",
    "    plt.xlabel(\"Dates\")\n",
    "    plt.ylabel(\"Closing Stock Prices\")\n",
    "    plt.plot(train['Close'])\n",
    "\n",
    "    plt.plot(test[['Close','Predictions']])\n",
    "    plt.legend([\"First 9 months\",\"Next 3 months Actual\", \"Next 3 months Predicted\"])\n",
    "    plt.title(title)\n",
    "    plt.show()"
   ]
  },
  {
   "cell_type": "code",
   "execution_count": null,
   "id": "40dbfb72",
   "metadata": {},
   "outputs": [],
   "source": [
    "Plot_prediction(df1, \"India Bulls Prediction\")"
   ]
  },
  {
   "cell_type": "code",
   "execution_count": null,
   "id": "81b4b4d3",
   "metadata": {},
   "outputs": [],
   "source": [
    "Plot_prediction(df2, \"GIC Prediction\")"
   ]
  },
  {
   "cell_type": "code",
   "execution_count": null,
   "id": "c4884157",
   "metadata": {},
   "outputs": [],
   "source": [
    "Plot_prediction(df3, \"LIC Predcition\")`"
   ]
  },
  {
   "cell_type": "code",
   "execution_count": null,
   "id": "48fb4261",
   "metadata": {},
   "outputs": [],
   "source": [
    "Plot_prediction(df4, \"Muthoot Prediction\")"
   ]
  },
  {
   "cell_type": "code",
   "execution_count": null,
   "id": "e5c1964f",
   "metadata": {},
   "outputs": [],
   "source": [
    "Plot_prediction(df5, \"Reliance Prediction\")"
   ]
  }
 ],
 "metadata": {
  "kernelspec": {
   "display_name": "Python 3 (ipykernel)",
   "language": "python",
   "name": "python3"
  },
  "language_info": {
   "codemirror_mode": {
    "name": "ipython",
    "version": 3
   },
   "file_extension": ".py",
   "mimetype": "text/x-python",
   "name": "python",
   "nbconvert_exporter": "python",
   "pygments_lexer": "ipython3",
   "version": "3.9.7"
  }
 },
 "nbformat": 4,
 "nbformat_minor": 5
}
